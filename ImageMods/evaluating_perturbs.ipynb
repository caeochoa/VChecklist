{
 "cells": [
  {
   "cell_type": "markdown",
   "metadata": {},
   "source": [
    "# Evaluation/comparison of perturbed results"
   ]
  },
  {
   "cell_type": "code",
   "execution_count": 1,
   "metadata": {},
   "outputs": [],
   "source": [
    "import json\n",
    "import os"
   ]
  },
  {
   "cell_type": "code",
   "execution_count": 3,
   "metadata": {},
   "outputs": [],
   "source": [
    "file = open(\"/Users/caeochoa/Documents/GUH20/VChecklist/nn-UNet/outputs/BraTS2021/495/summary.json\")\n",
    "normal_eval = json.load(file)\n",
    "file = open(\"/Users/caeochoa/Documents/GUH20/VChecklist/nn-UNet/outputs/BRATS2021/495/perturbed/summary.json\")\n",
    "perturbed_eval = json.load(file)"
   ]
  },
  {
   "cell_type": "code",
   "execution_count": 4,
   "metadata": {},
   "outputs": [
    {
     "data": {
      "text/plain": [
       "0.9987426075268817"
      ]
     },
     "execution_count": 4,
     "metadata": {},
     "output_type": "execute_result"
    }
   ],
   "source": [
    "normal_eval[\"results\"][\"mean\"][\"0\"][\"Accuracy\"]"
   ]
  },
  {
   "cell_type": "code",
   "execution_count": 5,
   "metadata": {},
   "outputs": [
    {
     "data": {
      "text/plain": [
       "0.996183579749104"
      ]
     },
     "execution_count": 5,
     "metadata": {},
     "output_type": "execute_result"
    }
   ],
   "source": [
    "perturbed_eval[\"results\"][\"mean\"][\"0\"][\"Accuracy\"]"
   ]
  },
  {
   "cell_type": "code",
   "execution_count": 6,
   "metadata": {},
   "outputs": [],
   "source": [
    "def compare_mean(dict1, dict2, label, criteria):\n",
    "    return dict1[\"results\"][\"mean\"][str(label)][criteria] - dict2[\"results\"][\"mean\"][str(label)][criteria]\n"
   ]
  },
  {
   "cell_type": "code",
   "execution_count": 7,
   "metadata": {},
   "outputs": [
    {
     "data": {
      "text/plain": [
       "0.0025590277777777226"
      ]
     },
     "execution_count": 7,
     "metadata": {},
     "output_type": "execute_result"
    }
   ],
   "source": [
    "compare_mean(normal_eval, perturbed_eval, 0, \"Accuracy\")"
   ]
  },
  {
   "cell_type": "code",
   "execution_count": 8,
   "metadata": {},
   "outputs": [
    {
     "name": "stdout",
     "output_type": "stream",
     "text": [
      "0.0025590277777777226\n",
      "0.0007811379928315265\n",
      "0.00018335573476702116\n",
      "0.0\n"
     ]
    }
   ],
   "source": [
    "for i in [0,1,2,4]:\n",
    "    print(compare_mean(normal_eval, perturbed_eval, i, \"Accuracy\"))"
   ]
  },
  {
   "cell_type": "markdown",
   "metadata": {},
   "source": [
    "## Test type 1: Properties"
   ]
  },
  {
   "cell_type": "markdown",
   "metadata": {},
   "source": [
    "### For each $t\\in T$ the behaviour of $M$ on $t$ _agrees_ with the behaviour of $M$ on $u \\in U_t$ in $95\\%$ of cases."
   ]
  },
  {
   "cell_type": "markdown",
   "metadata": {},
   "source": [
    "**Definition**: The behaviour of a model $M$ on a data point $t$ is said to agree with its behaviour on another data point $u$ if the predicted labels of $t$ and $u$ have a _similar performance_ with respect to the true labels. \n",
    "\n",
    "In that case I'll write $$M(t) \\sim M(u)$$"
   ]
  },
  {
   "cell_type": "markdown",
   "metadata": {},
   "source": [
    "In the particular case of $M =$ nn_UNet, we will say that the mean accuracy of all four segmentation labels has a difference of **less than $1\\%$** "
   ]
  },
  {
   "cell_type": "markdown",
   "metadata": {},
   "source": [
    "Thus, in the case of $t = $ BRATS2021_00495, with a perturbation of `central_rotation(0.5)` we have that"
   ]
  },
  {
   "cell_type": "code",
   "execution_count": 9,
   "metadata": {},
   "outputs": [
    {
     "name": "stdout",
     "output_type": "stream",
     "text": [
      "0.0008808803763440676\n",
      "True\n"
     ]
    }
   ],
   "source": [
    "acc = []\n",
    "for i in [0,1,2,4]:\n",
    "    acc.append(compare_mean(normal_eval, perturbed_eval, i, \"Accuracy\"))\n",
    "\n",
    "acc = sum(acc)/len(acc)\n",
    "print(acc)\n",
    "print(acc<0.01)"
   ]
  },
  {
   "cell_type": "markdown",
   "metadata": {},
   "source": [
    "Therefore, the behaviour of $M$ on $t$ agrees with the behaviour of $M$ on $u$"
   ]
  },
  {
   "cell_type": "code",
   "execution_count": 11,
   "metadata": {},
   "outputs": [
    {
     "data": {
      "text/plain": [
       "1"
      ]
     },
     "execution_count": 11,
     "metadata": {},
     "output_type": "execute_result"
    }
   ],
   "source": [
    "len(normal_eval[\"results\"][\"all\"])\n",
    "    "
   ]
  },
  {
   "cell_type": "code",
   "execution_count": null,
   "metadata": {},
   "outputs": [],
   "source": []
  }
 ],
 "metadata": {
  "kernelspec": {
   "display_name": "Python 3.10.4 ('dissertation')",
   "language": "python",
   "name": "python3"
  },
  "language_info": {
   "codemirror_mode": {
    "name": "ipython",
    "version": 3
   },
   "file_extension": ".py",
   "mimetype": "text/x-python",
   "name": "python",
   "nbconvert_exporter": "python",
   "pygments_lexer": "ipython3",
   "version": "3.10.4"
  },
  "orig_nbformat": 4,
  "vscode": {
   "interpreter": {
    "hash": "ab92ee1b8fc6c33c4783e4a6bd8f3e147e3941a2dc4bf2cf90bf8d9cc374c3e4"
   }
  }
 },
 "nbformat": 4,
 "nbformat_minor": 2
}
