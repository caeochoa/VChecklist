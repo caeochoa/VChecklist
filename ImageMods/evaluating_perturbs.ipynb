{
 "cells": [
  {
   "cell_type": "markdown",
   "metadata": {},
   "source": [
    "# Evaluation/comparison of perturbed results"
   ]
  },
  {
   "cell_type": "code",
   "execution_count": 7,
   "metadata": {},
   "outputs": [],
   "source": [
    "import json\n",
    "import os"
   ]
  },
  {
   "cell_type": "code",
   "execution_count": 8,
   "metadata": {},
   "outputs": [],
   "source": [
    "file = open(\"/Users/caeochoa/Documents/GUH20/VChecklist/nn-UNet/outputs/BRATS_2021/495/summary.json\")\n",
    "normal_eval = json.load(file)\n",
    "file = open(\"/Users/caeochoa/Documents/GUH20/VChecklist/nn-UNet/outputs/BRATS_2021/495/perturbed/summary.json\")\n",
    "perturbed_eval = json.load(file)"
   ]
  },
  {
   "cell_type": "code",
   "execution_count": 4,
   "metadata": {},
   "outputs": [
    {
     "data": {
      "text/plain": [
       "0.9987426075268817"
      ]
     },
     "execution_count": 4,
     "metadata": {},
     "output_type": "execute_result"
    }
   ],
   "source": [
    "normal_eval[\"results\"][\"mean\"][\"0\"][\"Accuracy\"]"
   ]
  },
  {
   "cell_type": "code",
   "execution_count": 5,
   "metadata": {},
   "outputs": [
    {
     "data": {
      "text/plain": [
       "0.996183579749104"
      ]
     },
     "execution_count": 5,
     "metadata": {},
     "output_type": "execute_result"
    }
   ],
   "source": [
    "perturbed_eval[\"results\"][\"mean\"][\"0\"][\"Accuracy\"]"
   ]
  },
  {
   "cell_type": "code",
   "execution_count": 6,
   "metadata": {},
   "outputs": [],
   "source": [
    "def compare_mean(dict1, dict2, label, criteria):\n",
    "    return dict1[\"results\"][\"mean\"][str(label)][criteria] - dict2[\"results\"][\"mean\"][str(label)][criteria]\n"
   ]
  },
  {
   "cell_type": "code",
   "execution_count": 7,
   "metadata": {},
   "outputs": [
    {
     "data": {
      "text/plain": [
       "0.0025590277777777226"
      ]
     },
     "execution_count": 7,
     "metadata": {},
     "output_type": "execute_result"
    }
   ],
   "source": [
    "compare_mean(normal_eval, perturbed_eval, 0, \"Accuracy\")"
   ]
  },
  {
   "cell_type": "code",
   "execution_count": 8,
   "metadata": {},
   "outputs": [
    {
     "name": "stdout",
     "output_type": "stream",
     "text": [
      "0.0025590277777777226\n",
      "0.0007811379928315265\n",
      "0.00018335573476702116\n",
      "0.0\n"
     ]
    }
   ],
   "source": [
    "for i in [0,1,2,4]:\n",
    "    print(compare_mean(normal_eval, perturbed_eval, i, \"Accuracy\"))"
   ]
  },
  {
   "cell_type": "markdown",
   "metadata": {},
   "source": [
    "## Test type 1: Properties"
   ]
  },
  {
   "cell_type": "markdown",
   "metadata": {},
   "source": [
    "### For each $t\\in T$ the behaviour of $M$ on $t$ _agrees_ with the behaviour of $M$ on $u \\in U_t$ in $95\\%$ of cases."
   ]
  },
  {
   "cell_type": "markdown",
   "metadata": {},
   "source": [
    "**Definition**: The behaviour of a model $M$ on a data point $t$ is said to agree with its behaviour on another data point $u$ if the predicted labels of $t$ and $u$ have a _similar performance_ with respect to the true labels. \n",
    "\n",
    "In that case I'll write $$M(t) \\sim M(u)$$"
   ]
  },
  {
   "cell_type": "markdown",
   "metadata": {},
   "source": [
    "In the particular case of $M =$ nn_UNet, we will say that the mean accuracy of all four segmentation labels has a difference of **less than $1\\%$** "
   ]
  },
  {
   "cell_type": "markdown",
   "metadata": {},
   "source": [
    "Thus, in the case of $t = $ BRATS2021_00495, with a perturbation of `central_rotation(0.5)` we have that"
   ]
  },
  {
   "cell_type": "code",
   "execution_count": 9,
   "metadata": {},
   "outputs": [
    {
     "name": "stdout",
     "output_type": "stream",
     "text": [
      "0.0008808803763440676\n",
      "True\n"
     ]
    }
   ],
   "source": [
    "acc = []\n",
    "for i in [0,1,2,4]:\n",
    "    acc.append(compare_mean(normal_eval, perturbed_eval, i, \"Accuracy\"))\n",
    "\n",
    "acc = sum(acc)/len(acc)\n",
    "print(acc)\n",
    "print(acc<0.01)"
   ]
  },
  {
   "cell_type": "markdown",
   "metadata": {},
   "source": [
    "Therefore, the behaviour of $M$ on $t$ agrees with the behaviour of $M$ on $u$"
   ]
  },
  {
   "cell_type": "code",
   "execution_count": 13,
   "metadata": {},
   "outputs": [
    {
     "data": {
      "text/plain": [
       "'/Users/caeochoa/Documents/GUH20/VChecklist/ImageMods'"
      ]
     },
     "execution_count": 13,
     "metadata": {},
     "output_type": "execute_result"
    }
   ],
   "source": [
    "os.path.abspath('.')"
   ]
  },
  {
   "cell_type": "code",
   "execution_count": 3,
   "metadata": {},
   "outputs": [],
   "source": [
    "import csv"
   ]
  },
  {
   "cell_type": "code",
   "execution_count": 6,
   "metadata": {},
   "outputs": [
    {
     "name": "stdout",
     "output_type": "stream",
     "text": [
      "[{'rr': '0.5', ' cr': '0', ' or': '0'}]\n"
     ]
    }
   ],
   "source": [
    "with open(\"configs/basic.csv\", mode=\"r\") as csvfile:\n",
    "            csv_reader = csv.DictReader(csvfile)\n",
    "            config = []\n",
    "            for row in csv_reader:\n",
    "                config.append(row)\n",
    "            print(config)\n",
    "                \n",
    "                "
   ]
  },
  {
   "cell_type": "code",
   "execution_count": 1,
   "metadata": {},
   "outputs": [
    {
     "data": {
      "text/plain": [
       "[[0], [1, 1], [2, 3]]"
      ]
     },
     "execution_count": 1,
     "metadata": {},
     "output_type": "execute_result"
    }
   ],
   "source": [
    "a = [0,1,2,3]\n",
    "b = [1,1]\n",
    "c = [a[0:1],b, a[2:]]\n",
    "c"
   ]
  },
  {
   "cell_type": "code",
   "execution_count": 4,
   "metadata": {},
   "outputs": [],
   "source": [
    "with open(\"configs/test.csv\", mode=\"w\") as file:\n",
    "    fields = [\"rr\", \"cr\", \"or\"]\n",
    "    writer = csv.DictWriter(file, fields, delimiter=\";\")\n",
    "\n",
    "    writer.writeheader()\n",
    "    writer.writerow({\"rr\": \"0,0\", \"or\":\"0.5,1\"})\n",
    "    writer.writerow({\"cr\":\"0.7,1\"})"
   ]
  },
  {
   "cell_type": "code",
   "execution_count": 2,
   "metadata": {},
   "outputs": [
    {
     "data": {
      "text/plain": [
       "False"
      ]
     },
     "execution_count": 2,
     "metadata": {},
     "output_type": "execute_result"
    }
   ],
   "source": [
    "[0,0] == [0,1]"
   ]
  },
  {
   "cell_type": "code",
   "execution_count": 6,
   "metadata": {},
   "outputs": [
    {
     "ename": "TypeError",
     "evalue": "sequence item 0: expected str instance, int found",
     "output_type": "error",
     "traceback": [
      "\u001b[0;31m---------------------------------------------------------------------------\u001b[0m",
      "\u001b[0;31mTypeError\u001b[0m                                 Traceback (most recent call last)",
      "\u001b[1;32m/Users/caeochoa/Documents/GUH20/VChecklist/ImageMods/evaluating_perturbs.ipynb Cell 6'\u001b[0m in \u001b[0;36m<cell line: 1>\u001b[0;34m()\u001b[0m\n\u001b[0;32m----> <a href='vscode-notebook-cell:/Users/caeochoa/Documents/GUH20/VChecklist/ImageMods/evaluating_perturbs.ipynb#ch0000005?line=0'>1</a>\u001b[0m \u001b[39m\"\u001b[39;49m\u001b[39m_\u001b[39;49m\u001b[39m\"\u001b[39;49m\u001b[39m.\u001b[39;49mjoin(a)\n",
      "\u001b[0;31mTypeError\u001b[0m: sequence item 0: expected str instance, int found"
     ]
    }
   ],
   "source": []
  },
  {
   "cell_type": "code",
   "execution_count": 1,
   "metadata": {},
   "outputs": [],
   "source": [
    "import os"
   ]
  },
  {
   "cell_type": "code",
   "execution_count": 2,
   "metadata": {},
   "outputs": [
    {
     "name": "stdout",
     "output_type": "stream",
     "text": [
      "['spotify.jpg', 'experimentingScipy.ipynb', '__init__.py', 'basic_perturbation.py', '__pycache__', 'test.png', 'experimentingPIL.ipynb', 'cat.png', 'experimenting3D.ipynb', 'SampleImage.png', 'configs', 'convert_nifti.py', 'evaluating_perturbs.ipynb', 'image_processing.py']\n"
     ]
    }
   ],
   "source": [
    "all_files = os.listdir(os.path.curdir)\n",
    "print(all_files)"
   ]
  },
  {
   "cell_type": "code",
   "execution_count": 4,
   "metadata": {},
   "outputs": [
    {
     "name": "stdout",
     "output_type": "stream",
     "text": [
      "['spotify.jpg', 'experimentingScipy.ipynb', '__init__.py', 'basic_perturbation.py', '__pycache__', 'test.png', 'experimentingPIL.ipynb', 'cat.png', 'experimenting3D.ipynb', 'SampleImage.png', 'convert_nifti.py', 'evaluating_perturbs.ipynb', 'image_processing.py']\n"
     ]
    }
   ],
   "source": [
    "if \"configs\" in all_files:\n",
    "    all_files.pop(all_files.index(\"configs\"))\n",
    "print(all_files)"
   ]
  },
  {
   "cell_type": "code",
   "execution_count": 6,
   "metadata": {},
   "outputs": [
    {
     "data": {
      "text/plain": [
       "[1, 2, 3]"
      ]
     },
     "execution_count": 6,
     "metadata": {},
     "output_type": "execute_result"
    }
   ],
   "source": [
    "a = [1,2,3,4]\n",
    "a[:-1]"
   ]
  },
  {
   "cell_type": "code",
   "execution_count": null,
   "metadata": {},
   "outputs": [],
   "source": []
  }
 ],
 "metadata": {
  "kernelspec": {
   "display_name": "Python 3.10.4 ('dissertation')",
   "language": "python",
   "name": "python3"
  },
  "language_info": {
   "codemirror_mode": {
    "name": "ipython",
    "version": 3
   },
   "file_extension": ".py",
   "mimetype": "text/x-python",
   "name": "python",
   "nbconvert_exporter": "python",
   "pygments_lexer": "ipython3",
   "version": "3.10.4"
  },
  "orig_nbformat": 4,
  "vscode": {
   "interpreter": {
    "hash": "ab92ee1b8fc6c33c4783e4a6bd8f3e147e3941a2dc4bf2cf90bf8d9cc374c3e4"
   }
  }
 },
 "nbformat": 4,
 "nbformat_minor": 2
}
